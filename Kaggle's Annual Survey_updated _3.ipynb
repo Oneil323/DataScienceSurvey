{
 "cells": [
  {
   "cell_type": "code",
   "execution_count": 301,
   "metadata": {},
   "outputs": [],
   "source": [
    "#Libraries\n",
    "import pandas as pd\n",
    "import numpy as np\n",
    "import matplotlib.pyplot as plt\n",
    "%matplotlib inline\n",
    "import seaborn as sns\n",
    "import os\n",
    "import math"
   ]
  },
  {
   "cell_type": "markdown",
   "metadata": {},
   "source": [
    "#  Section1: Business Unerstanding"
   ]
  },
  {
   "cell_type": "raw",
   "metadata": {},
   "source": [
    "Question:1   WHat is the age and distribution of Data Scientist?\n",
    "Question:2   How To Get Started in the Data Science Field?\n",
    "Question:3   What are the programming languages used By Data Scientist \n",
    "Question:4   What is the salary distribution of Data Scientist In Canada & The United States of America \n",
    "Question:5   What does a Data scientist do? "
   ]
  },
  {
   "cell_type": "markdown",
   "metadata": {},
   "source": [
    "# Section2: Data Understanding"
   ]
  },
  {
   "cell_type": "code",
   "execution_count": 271,
   "metadata": {},
   "outputs": [],
   "source": [
    "#os.mkdir('Udacity')"
   ]
  },
  {
   "cell_type": "code",
   "execution_count": 272,
   "metadata": {},
   "outputs": [],
   "source": [
    "os.chdir('C:/Users/actua/Documents/Udacity/')"
   ]
  },
  {
   "cell_type": "code",
   "execution_count": 273,
   "metadata": {},
   "outputs": [
    {
     "name": "stderr",
     "output_type": "stream",
     "text": [
      "C:\\Users\\actua\\anaconda3\\lib\\site-packages\\IPython\\core\\interactiveshell.py:3146: DtypeWarning: Columns (0) have mixed types.Specify dtype option on import or set low_memory=False.\n",
      "  has_raised = await self.run_ast_nodes(code_ast.body, cell_name,\n"
     ]
    }
   ],
   "source": [
    "df=pd.read_csv('kaggle_survey_2020_responses.csv');"
   ]
  },
  {
   "cell_type": "code",
   "execution_count": 274,
   "metadata": {},
   "outputs": [],
   "source": [
    "df=df.iloc[1:,:] "
   ]
  },
  {
   "cell_type": "code",
   "execution_count": 373,
   "metadata": {},
   "outputs": [
    {
     "data": {
      "text/html": [
       "<div>\n",
       "<style scoped>\n",
       "    .dataframe tbody tr th:only-of-type {\n",
       "        vertical-align: middle;\n",
       "    }\n",
       "\n",
       "    .dataframe tbody tr th {\n",
       "        vertical-align: top;\n",
       "    }\n",
       "\n",
       "    .dataframe thead th {\n",
       "        text-align: right;\n",
       "    }\n",
       "</style>\n",
       "<table border=\"1\" class=\"dataframe\">\n",
       "  <thead>\n",
       "    <tr style=\"text-align: right;\">\n",
       "      <th></th>\n",
       "      <th>Time from Start to Finish (seconds)</th>\n",
       "      <th>Q1</th>\n",
       "      <th>Q2</th>\n",
       "      <th>Q3</th>\n",
       "      <th>Q4</th>\n",
       "      <th>Q5</th>\n",
       "      <th>Q6</th>\n",
       "      <th>Q7_Part_1</th>\n",
       "      <th>Q7_Part_2</th>\n",
       "      <th>Q7_Part_3</th>\n",
       "      <th>...</th>\n",
       "      <th>Q35_B_Part_2</th>\n",
       "      <th>Q35_B_Part_3</th>\n",
       "      <th>Q35_B_Part_4</th>\n",
       "      <th>Q35_B_Part_5</th>\n",
       "      <th>Q35_B_Part_6</th>\n",
       "      <th>Q35_B_Part_7</th>\n",
       "      <th>Q35_B_Part_8</th>\n",
       "      <th>Q35_B_Part_9</th>\n",
       "      <th>Q35_B_Part_10</th>\n",
       "      <th>Q35_B_OTHER</th>\n",
       "    </tr>\n",
       "  </thead>\n",
       "  <tbody>\n",
       "    <tr>\n",
       "      <th>1</th>\n",
       "      <td>1838</td>\n",
       "      <td>35-39</td>\n",
       "      <td>Man</td>\n",
       "      <td>Colombia</td>\n",
       "      <td>Doctoral degree</td>\n",
       "      <td>Student</td>\n",
       "      <td>5-10 years</td>\n",
       "      <td>Python</td>\n",
       "      <td>R</td>\n",
       "      <td>SQL</td>\n",
       "      <td>...</td>\n",
       "      <td>NaN</td>\n",
       "      <td>NaN</td>\n",
       "      <td>NaN</td>\n",
       "      <td>TensorBoard</td>\n",
       "      <td>NaN</td>\n",
       "      <td>NaN</td>\n",
       "      <td>NaN</td>\n",
       "      <td>NaN</td>\n",
       "      <td>NaN</td>\n",
       "      <td>NaN</td>\n",
       "    </tr>\n",
       "    <tr>\n",
       "      <th>2</th>\n",
       "      <td>289287</td>\n",
       "      <td>30-34</td>\n",
       "      <td>Man</td>\n",
       "      <td>United States of America</td>\n",
       "      <td>Master’s degree</td>\n",
       "      <td>Data Engineer</td>\n",
       "      <td>5-10 years</td>\n",
       "      <td>Python</td>\n",
       "      <td>R</td>\n",
       "      <td>SQL</td>\n",
       "      <td>...</td>\n",
       "      <td>NaN</td>\n",
       "      <td>NaN</td>\n",
       "      <td>NaN</td>\n",
       "      <td>NaN</td>\n",
       "      <td>NaN</td>\n",
       "      <td>NaN</td>\n",
       "      <td>NaN</td>\n",
       "      <td>NaN</td>\n",
       "      <td>NaN</td>\n",
       "      <td>NaN</td>\n",
       "    </tr>\n",
       "    <tr>\n",
       "      <th>3</th>\n",
       "      <td>860</td>\n",
       "      <td>35-39</td>\n",
       "      <td>Man</td>\n",
       "      <td>Argentina</td>\n",
       "      <td>Bachelor’s degree</td>\n",
       "      <td>Software Engineer</td>\n",
       "      <td>10-20 years</td>\n",
       "      <td>NaN</td>\n",
       "      <td>NaN</td>\n",
       "      <td>NaN</td>\n",
       "      <td>...</td>\n",
       "      <td>NaN</td>\n",
       "      <td>NaN</td>\n",
       "      <td>NaN</td>\n",
       "      <td>NaN</td>\n",
       "      <td>NaN</td>\n",
       "      <td>NaN</td>\n",
       "      <td>NaN</td>\n",
       "      <td>NaN</td>\n",
       "      <td>None</td>\n",
       "      <td>NaN</td>\n",
       "    </tr>\n",
       "    <tr>\n",
       "      <th>4</th>\n",
       "      <td>507</td>\n",
       "      <td>30-34</td>\n",
       "      <td>Man</td>\n",
       "      <td>United States of America</td>\n",
       "      <td>Master’s degree</td>\n",
       "      <td>Data Scientist</td>\n",
       "      <td>5-10 years</td>\n",
       "      <td>Python</td>\n",
       "      <td>NaN</td>\n",
       "      <td>SQL</td>\n",
       "      <td>...</td>\n",
       "      <td>NaN</td>\n",
       "      <td>NaN</td>\n",
       "      <td>NaN</td>\n",
       "      <td>NaN</td>\n",
       "      <td>NaN</td>\n",
       "      <td>NaN</td>\n",
       "      <td>NaN</td>\n",
       "      <td>NaN</td>\n",
       "      <td>NaN</td>\n",
       "      <td>NaN</td>\n",
       "    </tr>\n",
       "    <tr>\n",
       "      <th>5</th>\n",
       "      <td>78</td>\n",
       "      <td>30-34</td>\n",
       "      <td>Man</td>\n",
       "      <td>Japan</td>\n",
       "      <td>Master’s degree</td>\n",
       "      <td>Software Engineer</td>\n",
       "      <td>3-5 years</td>\n",
       "      <td>Python</td>\n",
       "      <td>NaN</td>\n",
       "      <td>NaN</td>\n",
       "      <td>...</td>\n",
       "      <td>NaN</td>\n",
       "      <td>NaN</td>\n",
       "      <td>NaN</td>\n",
       "      <td>NaN</td>\n",
       "      <td>NaN</td>\n",
       "      <td>NaN</td>\n",
       "      <td>NaN</td>\n",
       "      <td>NaN</td>\n",
       "      <td>NaN</td>\n",
       "      <td>NaN</td>\n",
       "    </tr>\n",
       "  </tbody>\n",
       "</table>\n",
       "<p>5 rows × 355 columns</p>\n",
       "</div>"
      ],
      "text/plain": [
       "  Time from Start to Finish (seconds)     Q1   Q2                        Q3  \\\n",
       "1                                1838  35-39  Man                  Colombia   \n",
       "2                              289287  30-34  Man  United States of America   \n",
       "3                                 860  35-39  Man                 Argentina   \n",
       "4                                 507  30-34  Man  United States of America   \n",
       "5                                  78  30-34  Man                     Japan   \n",
       "\n",
       "                  Q4                 Q5           Q6 Q7_Part_1 Q7_Part_2  \\\n",
       "1    Doctoral degree            Student   5-10 years    Python         R   \n",
       "2    Master’s degree      Data Engineer   5-10 years    Python         R   \n",
       "3  Bachelor’s degree  Software Engineer  10-20 years       NaN       NaN   \n",
       "4    Master’s degree     Data Scientist   5-10 years    Python       NaN   \n",
       "5    Master’s degree  Software Engineer    3-5 years    Python       NaN   \n",
       "\n",
       "  Q7_Part_3  ... Q35_B_Part_2 Q35_B_Part_3 Q35_B_Part_4   Q35_B_Part_5  \\\n",
       "1       SQL  ...          NaN          NaN          NaN   TensorBoard    \n",
       "2       SQL  ...          NaN          NaN          NaN            NaN   \n",
       "3       NaN  ...          NaN          NaN          NaN            NaN   \n",
       "4       SQL  ...          NaN          NaN          NaN            NaN   \n",
       "5       NaN  ...          NaN          NaN          NaN            NaN   \n",
       "\n",
       "  Q35_B_Part_6 Q35_B_Part_7 Q35_B_Part_8 Q35_B_Part_9 Q35_B_Part_10  \\\n",
       "1          NaN          NaN          NaN          NaN           NaN   \n",
       "2          NaN          NaN          NaN          NaN           NaN   \n",
       "3          NaN          NaN          NaN          NaN          None   \n",
       "4          NaN          NaN          NaN          NaN           NaN   \n",
       "5          NaN          NaN          NaN          NaN           NaN   \n",
       "\n",
       "  Q35_B_OTHER  \n",
       "1         NaN  \n",
       "2         NaN  \n",
       "3         NaN  \n",
       "4         NaN  \n",
       "5         NaN  \n",
       "\n",
       "[5 rows x 355 columns]"
      ]
     },
     "execution_count": 373,
     "metadata": {},
     "output_type": "execute_result"
    }
   ],
   "source": [
    "df.head(5)"
   ]
  },
  {
   "cell_type": "code",
   "execution_count": 275,
   "metadata": {},
   "outputs": [
    {
     "data": {
      "text/plain": [
       "(20036, 355)"
      ]
     },
     "execution_count": 275,
     "metadata": {},
     "output_type": "execute_result"
    }
   ],
   "source": [
    "df.shape"
   ]
  },
  {
   "cell_type": "code",
   "execution_count": 276,
   "metadata": {},
   "outputs": [
    {
     "name": "stdout",
     "output_type": "stream",
     "text": [
      "<class 'pandas.core.frame.DataFrame'>\n",
      "RangeIndex: 20036 entries, 1 to 20036\n",
      "Data columns (total 4 columns):\n",
      " #   Column  Non-Null Count  Dtype \n",
      "---  ------  --------------  ----- \n",
      " 0   Q1      20036 non-null  object\n",
      " 1   Q2      20036 non-null  object\n",
      " 2   Q3      20036 non-null  object\n",
      " 3   Q24     10729 non-null  object\n",
      "dtypes: object(4)\n",
      "memory usage: 626.3+ KB\n"
     ]
    }
   ],
   "source": [
    "#Missing values exist\n",
    "df[[\"Q1\",\"Q2\",\"Q3\",\"Q24\"]].info();"
   ]
  },
  {
   "cell_type": "code",
   "execution_count": 277,
   "metadata": {},
   "outputs": [
    {
     "name": "stdout",
     "output_type": "stream",
     "text": [
      "<class 'pandas.core.frame.DataFrame'>\n",
      "RangeIndex: 20036 entries, 1 to 20036\n",
      "Data columns (total 13 columns):\n",
      " #   Column      Non-Null Count  Dtype \n",
      "---  ------      --------------  ----- \n",
      " 0   Q7_Part_1   15530 non-null  object\n",
      " 1   Q7_Part_2   4277 non-null   object\n",
      " 2   Q7_Part_3   7535 non-null   object\n",
      " 3   Q7_Part_4   3315 non-null   object\n",
      " 4   Q7_Part_5   3827 non-null   object\n",
      " 5   Q7_Part_6   3367 non-null   object\n",
      " 6   Q7_Part_7   2995 non-null   object\n",
      " 7   Q7_Part_8   262 non-null    object\n",
      " 8   Q7_Part_9   198 non-null    object\n",
      " 9   Q7_Part_10  1776 non-null   object\n",
      " 10  Q7_Part_11  2217 non-null   object\n",
      " 11  Q7_Part_12  206 non-null    object\n",
      " 12  Q7_OTHER    1945 non-null   object\n",
      "dtypes: object(13)\n",
      "memory usage: 2.0+ MB\n"
     ]
    }
   ],
   "source": [
    "#miss values exist \n",
    "df[[i for i  in df.columns if 'Q7' in i]].info()"
   ]
  },
  {
   "cell_type": "code",
   "execution_count": 278,
   "metadata": {},
   "outputs": [
    {
     "name": "stdout",
     "output_type": "stream",
     "text": [
      "<class 'pandas.core.frame.DataFrame'>\n",
      "RangeIndex: 20036 entries, 1 to 20036\n",
      "Data columns (total 8 columns):\n",
      " #   Column      Non-Null Count  Dtype \n",
      "---  ------      --------------  ----- \n",
      " 0   Q23_Part_1  6421 non-null   object\n",
      " 1   Q23_Part_2  3320 non-null   object\n",
      " 2   Q23_Part_3  4007 non-null   object\n",
      " 3   Q23_Part_4  2725 non-null   object\n",
      " 4   Q23_Part_5  3119 non-null   object\n",
      " 5   Q23_Part_6  2339 non-null   object\n",
      " 6   Q23_Part_7  1753 non-null   object\n",
      " 7   Q23_OTHER   522 non-null    object\n",
      "dtypes: object(8)\n",
      "memory usage: 1.2+ MB\n"
     ]
    }
   ],
   "source": [
    "#missing value\n",
    "df[[i for i  in df.columns if 'Q23' in i]].info()"
   ]
  },
  {
   "cell_type": "markdown",
   "metadata": {},
   "source": [
    "# Section3: Data Preparation\n"
   ]
  },
  {
   "cell_type": "code",
   "execution_count": 279,
   "metadata": {},
   "outputs": [
    {
     "data": {
      "text/plain": [
       "9307"
      ]
     },
     "execution_count": 279,
     "metadata": {},
     "output_type": "execute_result"
    }
   ],
   "source": [
    "df.Q24.isnull().sum()"
   ]
  },
  {
   "cell_type": "code",
   "execution_count": 420,
   "metadata": {},
   "outputs": [
    {
     "data": {
      "text/plain": [
       "$0-999             2128\n",
       "1,000-1,999         581\n",
       "10,000-14,999       665\n",
       "100,000-124,999     573\n",
       "125,000-149,999     315\n",
       "15,000-19,999       449\n",
       "150,000-199,999     347\n",
       "2,000-2,999         330\n",
       "20,000-24,999       404\n",
       "200,000-249,999     115\n",
       "25,000-29,999       310\n",
       "250,000-299,999      48\n",
       "3,000-3,999         264\n",
       "30,000-39,999       540\n",
       "300,000-500,000      55\n",
       "4,000-4,999         279\n",
       "40,000-49,999       552\n",
       "5,000-7,499         488\n",
       "50,000-59,999       510\n",
       "60,000-69,999       408\n",
       "7,500-9,999         371\n",
       "70,000-79,999       394\n",
       "80,000-89,999       273\n",
       "90,000-99,999       280\n",
       "> $500,000           50\n",
       "Name: Q24, dtype: int64"
      ]
     },
     "execution_count": 420,
     "metadata": {},
     "output_type": "execute_result"
    }
   ],
   "source": [
    "#No need to remove the miss values because the value_counts() method is aggregates the data\n",
    "df.Q24.value_counts().sort_index()"
   ]
  },
  {
   "cell_type": "code",
   "execution_count": 281,
   "metadata": {},
   "outputs": [
    {
     "data": {
      "text/plain": [
       "0"
      ]
     },
     "execution_count": 281,
     "metadata": {},
     "output_type": "execute_result"
    }
   ],
   "source": [
    "df.Q1.value_counts().isnull().sum()"
   ]
  },
  {
   "cell_type": "raw",
   "metadata": {},
   "source": [
    "No need to remove the miss values because the value_counts() method is used to aggregates the data\n",
    "and this method prevents missing values from showing up"
   ]
  },
  {
   "cell_type": "markdown",
   "metadata": {},
   "source": [
    "# Section4:   Model&Evaluation"
   ]
  },
  {
   "cell_type": "code",
   "execution_count": 200,
   "metadata": {},
   "outputs": [],
   "source": [
    "#preparing the data Q1\n",
    "\n",
    "def select_ques(data):\n",
    "    '''\n",
    "    Agregate values  of specific columns \n",
    "    input:   columns of dataframe\n",
    "    output:  Agregated value \n",
    "    \n",
    "    '''\n",
    "    v=data.value_counts().sort_index() \n",
    "    return pd.DataFrame(v)\n",
    "     "
   ]
  },
  {
   "cell_type": "code",
   "execution_count": 201,
   "metadata": {},
   "outputs": [],
   "source": [
    "ques_1=select_ques(df['Q1']) "
   ]
  },
  {
   "cell_type": "code",
   "execution_count": 202,
   "metadata": {},
   "outputs": [],
   "source": [
    "#ques_1['Q1']"
   ]
  },
  {
   "cell_type": "markdown",
   "metadata": {},
   "source": [
    "# Question1: What is the age distribution of Data Scientists?"
   ]
  },
  {
   "cell_type": "code",
   "execution_count": 374,
   "metadata": {},
   "outputs": [
    {
     "data": {
      "image/png": "[encoded data removed]",
      "text/plain": [
       "<Figure size 720x360 with 1 Axes>"
      ]
     },
     "metadata": {
      "needs_background": "light"
     },
     "output_type": "display_data"
    }
   ],
   "source": [
    "#Model\n",
    "def annotation(ques_1): \n",
    "    '''\n",
    "Annotates a bar chart for question one\n",
    "\n",
    "Input:  Agregated data \n",
    "output: Annotated bar chart\n",
    "\n",
    "''' \n",
    "    \n",
    "    fig,ax=plt.subplots(1,1,figsize=(10,5))\n",
    "    ax.bar(ques_1.index,ques_1['Q1'],width=.65);\n",
    "\n",
    "    for z in ques_1.index:\n",
    "        ax.annotate('{}'.format(ques_1['Q1'][z]),xy=(z,ques_1['Q1'][z]-200),va='center',ha='center')\n",
    "    \n",
    "    ax.set_ylim(0,5000)\n",
    "    ax.grid(axis='y',alpha=.6)\n",
    "    fig.text(0.5,0.8,'Age of Respondents',fontsize=15,fontfamily='sans-serif');\n",
    "    ax.set_xlabel('Age')\n",
    "    plt.show()\n",
    "    return \n",
    "    \n",
    "annotate_q1=annotation(ques_1);\n",
    "\n",
    "\n"
   ]
  },
  {
   "cell_type": "code",
   "execution_count": null,
   "metadata": {},
   "outputs": [],
   "source": []
  },
  {
   "cell_type": "code",
   "execution_count": 204,
   "metadata": {},
   "outputs": [],
   "source": [
    "#data preparation\n",
    "def select_q1q2(quesot):\n",
    "    '''\n",
    "    imput: columns: Q1&Q2\n",
    "    Output:\n",
    "    1.Group the age of the respondents by  gender and count the amount of male vs female\n",
    "    2. unstack the data where each gender become a column\n",
    "\n",
    "    '''     \n",
    "    v= df.groupby(['Q2'])['Q1'].value_counts().unstack()\n",
    "    return pd.DataFrame(v)\n",
    "\n",
    "\n",
    "\n"
   ]
  },
  {
   "cell_type": "code",
   "execution_count": 205,
   "metadata": {},
   "outputs": [],
   "source": [
    "q_1_2=select_q1q2"
   ]
  },
  {
   "cell_type": "code",
   "execution_count": 375,
   "metadata": {},
   "outputs": [],
   "source": [
    "#model\n",
    "def Questions_1_2(q_1_2): \n",
    "    \n",
    "    '''\n",
    "\n",
    "    Imput: dataframe\n",
    "    Output: Display age by gender\n",
    "\n",
    "    '''\n",
    "    \n",
    "    q_1_2=select_q1q2(df)\n",
    "    Male=q_1_2.loc['Man']\n",
    "    Female=q_1_2.loc['Woman']\n",
    "    fig,ax=plt.subplots(1,1,figsize=(15,6))\n",
    "    ax.bar(Male.index,Male,label='Male');\n",
    "    ax.bar(Female.index,Female,label='Female');\n",
    "    \n",
    "    \n",
    "    for a in Male.index:\n",
    "        ax.annotate('{:3.0f}'.format(Male[a]),xy=(a,Male[a]+300),va='center',ha='center')\n",
    "    for a in Male.index:\n",
    "        ax.annotate('{:3.0f}'.format(Female[a]),xy=(a,Female[a]+100),va='center',ha='center')\n",
    "        \n",
    "    ax.set_ylim(0,5000)\n",
    "    ax.legend()\n",
    "    ax.grid(axis='y',alpha=.6)\n",
    "    ax.set_xlabel('Age')\n",
    "    plt.show()\n",
    "    return\n",
    "\n",
    "\n",
    "\n"
   ]
  },
  {
   "cell_type": "code",
   "execution_count": 376,
   "metadata": {},
   "outputs": [
    {
     "data": {
      "image/png": "[encoded data removed]",
      "text/plain": [
       "<Figure size 1080x432 with 1 Axes>"
      ]
     },
     "metadata": {
      "needs_background": "light"
     },
     "output_type": "display_data"
    }
   ],
   "source": [
    "Age_and_gendeer=Questions_1_2(q_1_2)"
   ]
  },
  {
   "cell_type": "raw",
   "metadata": {},
   "source": [
    "Generally they are more males in the the Data Science field than females."
   ]
  },
  {
   "cell_type": "markdown",
   "metadata": {},
   "source": [
    "# Question2: How to get started in Data Science field?"
   ]
  },
  {
   "cell_type": "code",
   "execution_count": 392,
   "metadata": {},
   "outputs": [],
   "source": [
    "\n",
    "def Question_37(df):\n",
    "    '''\n",
    "    1. Filter columns for Q37 using list comprehension\n",
    "    2. Create a serie to process the data\n",
    "\n",
    "\n",
    "\n",
    "\n",
    "    input: The dataframe\n",
    "    output: Aggregated data of the selected columns\n",
    "\n",
    "\n",
    "    '''\n",
    "    quest37= df[[y for y in df.columns if \"Q37\" in y]]\n",
    "    c=pd.Series(dtype='int')\n",
    "    \n",
    "    for j in quest37.columns:\n",
    "           c[quest37[j].value_counts().index[0]]=quest37[j].count()\n",
    "            \n",
    "    fig,ax=plt.subplots(1,1,figsize=(15,6))\n",
    "    ax.bar(c.index,c);\n",
    "    ax.set_xticklabels(c.rename(index={'LinkedIn Learning':'LinkedIn',\n",
    "                   'Cloud-certification programs (direct from AWS, Azure, GCP, or similar)':'Cloud Cerfication',\n",
    "                    'University Courses (resulting in a university degree)':'University Degree'}).index,rotation=90);\n",
    "\n",
    "    plt.show()\n",
    "    \n",
    "    return\n",
    "\n"
   ]
  },
  {
   "cell_type": "code",
   "execution_count": 393,
   "metadata": {},
   "outputs": [
    {
     "name": "stderr",
     "output_type": "stream",
     "text": [
      "<ipython-input-392-b18d59423091>:22: UserWarning: FixedFormatter should only be used together with FixedLocator\n",
      "  ax.set_xticklabels(c.rename(index={'LinkedIn Learning':'LinkedIn',\n"
     ]
    },
    {
     "data": {
      "image/png": "[encoded data removed]",
      "text/plain": [
       "<Figure size 1080x432 with 1 Axes>"
      ]
     },
     "metadata": {
      "needs_background": "light"
     },
     "output_type": "display_data"
    }
   ],
   "source": [
    "graph=Question_37(df);"
   ]
  },
  {
   "cell_type": "code",
   "execution_count": 394,
   "metadata": {},
   "outputs": [
    {
     "name": "stdout",
     "output_type": "stream",
     "text": [
      "Coursera                                                                  36.84\n",
      "edX                                                                       12.47\n",
      "Kaggle Learn Courses                                                      24.17\n",
      "DataCamp                                                                  15.13\n",
      "Fast.ai                                                                    5.28\n",
      "Udacity                                                                   10.26\n",
      "Udemy                                                                     23.09\n",
      "LinkedIn Learning                                                          8.07\n",
      "Cloud-certification programs (direct from AWS, Azure, GCP, or similar)     5.37\n",
      "University Courses (resulting in a university degree)                     17.81\n",
      "None                                                                       6.52\n",
      "Other                                                                      8.17\n",
      "dtype: float64\n"
     ]
    }
   ],
   "source": [
    "quest37= df[[y for y in df.columns if \"Q37\" in y]]\n",
    "c=pd.Series(dtype='int')\n",
    "    \n",
    "for j in quest37.columns:\n",
    "    c[quest37[j].value_counts().index[0]]=quest37[j].count()\n",
    "per=(c/df.shape[0])*100\n",
    "print('{0}'.format(np.round(per,2)))"
   ]
  },
  {
   "cell_type": "raw",
   "metadata": {},
   "source": [
    "Most people were introduced to Data Science by the  Coursera platform. "
   ]
  },
  {
   "cell_type": "markdown",
   "metadata": {},
   "source": [
    "# Question3: What are the programming languages used by Data Scientist?"
   ]
  },
  {
   "cell_type": "code",
   "execution_count": 351,
   "metadata": {},
   "outputs": [],
   "source": [
    "def Question_7(df):\n",
    "    '''\n",
    "    1. Filter columns for Q7 using list comprehension\n",
    "    2. Create a serie to process the data\n",
    "\n",
    "\n",
    "\n",
    "\n",
    "    input: The dataframe\n",
    "    output: Aggregated data of the selected columns\n",
    "\n",
    "\n",
    "    '''\n",
    "    quest7= df[[y for y in df.columns if \"Q7\" in y]]\n",
    "    c=pd.Series(dtype='int')\n",
    "    \n",
    "    for j in quest7.columns:\n",
    "           c[quest7[j].value_counts().index[0]]=quest7[j].count()\n",
    "            \n",
    "    fig,ax=plt.subplots(1,1,figsize=(15,6))\n",
    "    ax.bar(c.index,c);\n",
    "    ax.set_xticklabels(c.index,rotation=90);\n",
    "    ax.set_xlabel('Programming  Languages')\n",
    "    ax.set_ylabel('Number of Respondents')\n",
    "    ax.set_title('Programming Languages Used by Data Scientist')\n",
    "    plt.show()\n",
    "    \n",
    "    return\n",
    "\n",
    "\n"
   ]
  },
  {
   "cell_type": "code",
   "execution_count": 352,
   "metadata": {},
   "outputs": [
    {
     "name": "stderr",
     "output_type": "stream",
     "text": [
      "<ipython-input-351-ec723d2f4216>:22: UserWarning: FixedFormatter should only be used together with FixedLocator\n",
      "  ax.set_xticklabels(c.index,rotation=90);\n"
     ]
    },
    {
     "data": {
      "image/png": "[encoded data removed]",
      "text/plain": [
       "<Figure size 1080x432 with 1 Axes>"
      ]
     },
     "metadata": {
      "needs_background": "light"
     },
     "output_type": "display_data"
    }
   ],
   "source": [
    "graph_7=Question_7(df);"
   ]
  },
  {
   "cell_type": "code",
   "execution_count": 318,
   "metadata": {},
   "outputs": [
    {
     "name": "stdout",
     "output_type": "stream",
     "text": [
      "Python        77.51\n",
      "R             21.35\n",
      "SQL           37.61\n",
      "C             16.55\n",
      "C++           19.10\n",
      "Java          16.80\n",
      "Javascript    14.95\n",
      "Julia          1.31\n",
      "Swift          0.99\n",
      "Bash           8.86\n",
      "MATLAB        11.07\n",
      "None           1.03\n",
      "Other          9.71\n",
      "dtype: float64\n"
     ]
    }
   ],
   "source": [
    "\n",
    "quest7= df[[y for y in df.columns if \"Q7\" in y]]\n",
    "c=pd.Series(dtype='int')\n",
    "    \n",
    "for j in quest7.columns:\n",
    "    c[quest7[j].value_counts().index[0]]=quest7[j].count()\n",
    "percentage=(((c/df.shape[0])*100))\n",
    "print( '{0}'.format(np.round(percentage,2)))"
   ]
  },
  {
   "cell_type": "raw",
   "metadata": {},
   "source": [
    "Python is the most poplular programming language among Data Scientists"
   ]
  },
  {
   "cell_type": "markdown",
   "metadata": {},
   "source": [
    "# Question4:"
   ]
  },
  {
   "cell_type": "markdown",
   "metadata": {},
   "source": [
    "# What is the salary distribution of Data Scientist in Canada & The   United States of America"
   ]
  },
  {
   "cell_type": "code",
   "execution_count": 431,
   "metadata": {},
   "outputs": [],
   "source": [
    " def Salary(df):\n",
    "    '''\n",
    "    Group salary by country\n",
    "    Display salary of the selected country\n",
    "    Imput: dataframe\n",
    "\n",
    "    '''\n",
    "    v=df.groupby(['Q3'])['Q24'].value_counts()\n",
    "    Canada=v.loc['Canada']\n",
    "    USA=v.loc['United States of America']\n",
    "    fig,ax=plt.subplots(1,1,figsize=(15,6))\n",
    "    ax.bar(USA.index,USA,label='USA')\n",
    "    ax.bar(Canada.index,Canada,label='Canada')\n",
    "\n",
    "    ax.set_xticklabels(USA.index,rotation=80);\n",
    "    ax.set_xlabel('Salary of Data Scientist')\n",
    "    ax.legend();\n",
    "    return\n",
    "\n",
    "\n",
    "\n"
   ]
  },
  {
   "cell_type": "code",
   "execution_count": 432,
   "metadata": {},
   "outputs": [
    {
     "name": "stderr",
     "output_type": "stream",
     "text": [
      "<ipython-input-431-8251b92f0e17>:15: UserWarning: FixedFormatter should only be used together with FixedLocator\n",
      "  ax.set_xticklabels(USA.index,rotation=80);\n"
     ]
    },
    {
     "data": {
      "image/png": "[encoded data removed]",
      "text/plain": [
       "<Figure size 1080x432 with 1 Axes>"
      ]
     },
     "metadata": {
      "needs_background": "light"
     },
     "output_type": "display_data"
    }
   ],
   "source": [
    "graph_q25_q3=Salary(df);"
   ]
  },
  {
   "cell_type": "raw",
   "metadata": {},
   "source": [
    "Generally the Salaries of Data Scientists in both The United States and Canada are excellent. Comparing both, there are more Data Scientist in America getting paid on the higher paying scales. \n"
   ]
  },
  {
   "cell_type": "code",
   "execution_count": 414,
   "metadata": {},
   "outputs": [],
   "source": [
    "def Question23(df):\n",
    "    '''\n",
    "    1. Filter columns for Q23 using list comprehension\n",
    "    2. Create a serie to process the data\n",
    "\n",
    "\n",
    "\n",
    "    input: The dataframe\n",
    "    output: Aggregated data of the selected columns\n",
    "\n",
    "\n",
    "    '''\n",
    "    q23=df[[i for i in df.columns if 'Q23' in i ]]\n",
    "    t=pd.Series(dtype='int')\n",
    "    for i in q23.columns:\n",
    "        t[q23[i].value_counts().index[0]]=q23[i].count()\n",
    "    \n",
    "    \n",
    "    fig,ax=plt.subplots(1,1,figsize=(15,6))\n",
    "    ax.bar(['A','B','C','D','E','F','G','H'],t);\n",
    "    ax.set_xticklabels(['A','B','C','D','E','F','G','H'],rotation=360);\n",
    "    l=['A','B','C','D','E','F','G','H']\n",
    "    ax.set_xlabel('Data Science Task')\n",
    "    print('{} {}'.format([i for i in l][0],[z for z in t.index][0]))\n",
    "    print('{} {}'.format([i for i in l][1],[z for z in t.index][1]))\n",
    "    print('{} {}'.format([i for i in l][2],[z for z in t.index][2]))\n",
    "    print('{} {}'.format([i for i in l][3],[z for z in t.index][3]))\n",
    "    print('{} {}'.format([i for i in l][4],[z for z in t.index][4]))\n",
    "    print('{} {}'.format([i for i in l][5],[z for z in t.index][5]))\n",
    "    print('{} {}'.format([i for i in l][6],[z for z in t.index][6]))\n",
    "    print('{} {}'.format([i for i in l][7],[z for z in t.index][7]))\n",
    "    return\n",
    "\n",
    "\n",
    "\n",
    "\n"
   ]
  },
  {
   "cell_type": "code",
   "execution_count": 401,
   "metadata": {},
   "outputs": [
    {
     "name": "stdout",
     "output_type": "stream",
     "text": [
      "A Analyze and understand data to influence product or business decisions\n",
      "B Build and/or run the data infrastructure that my business uses for storing, analyzing, and operationalizing data\n",
      "C Build prototypes to explore applying machine learning to new areas\n",
      "D Build and/or run a machine learning service that operationally improves my product or workflows\n",
      "E Experimentation and iteration to improve existing ML models\n",
      "F Do research that advances the state of the art of machine learning\n",
      "G None of these activities are an important part of my role at work\n",
      "H Other\n"
     ]
    },
    {
     "name": "stderr",
     "output_type": "stream",
     "text": [
      "<ipython-input-400-a2484d4b3608>:21: UserWarning: FixedFormatter should only be used together with FixedLocator\n",
      "  ax.set_xticklabels(['A','B','C','D','E','F','G','H'],rotation=360);\n"
     ]
    },
    {
     "data": {
      "image/png": "[encoded data removed]",
      "text/plain": [
       "<Figure size 1080x432 with 1 Axes>"
      ]
     },
     "metadata": {
      "needs_background": "light"
     },
     "output_type": "display_data"
    }
   ],
   "source": [
    "Task=Question23(df);"
   ]
  },
  {
   "cell_type": "raw",
   "metadata": {},
   "source": [
    "The most popular task of Data Scienist is analyzing business decisions."
   ]
  }
 ],
 "metadata": {
  "kernelspec": {
   "display_name": "Python 3",
   "language": "python",
   "name": "python3"
  },
  "language_info": {
   "codemirror_mode": {
    "name": "ipython",
    "version": 3
   },
   "file_extension": ".py",
   "mimetype": "text/x-python",
   "name": "python",
   "nbconvert_exporter": "python",
   "pygments_lexer": "ipython3",
   "version": "3.8.5"
  }
 },
 "nbformat": 4,
 "nbformat_minor": 4
}
